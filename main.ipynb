{
 "cells": [
  {
   "cell_type": "markdown",
   "metadata": {},
   "source": [
    "#### Dot env setup"
   ]
  },
  {
   "cell_type": "code",
   "execution_count": null,
   "metadata": {},
   "outputs": [],
   "source": [
    "import os\n",
    "from dotenv import load_dotenv\n",
    "load_dotenv()"
   ]
  },
  {
   "cell_type": "markdown",
   "metadata": {},
   "source": [
    "#### Set GEMINI Key"
   ]
  },
  {
   "cell_type": "code",
   "execution_count": null,
   "metadata": {},
   "outputs": [],
   "source": [
    "gemini_api_key = os.getenv('GEMINI_API_KEY')\n",
    "\n",
    "if gemini_api_key is None:\n",
    "    print(\"GEMINI_API_KEY is not set\")\n",
    "    \n",
    "else:\n",
    "    os.environ['GEMINI_API_KEY'] = gemini_api_key\n",
    "    print(f\"GEMINI_API_KEY is set\")"
   ]
  },
  {
   "cell_type": "markdown",
   "metadata": {},
   "source": [
    "#### Code to extract meta data from database"
   ]
  },
  {
   "cell_type": "markdown",
   "metadata": {},
   "source": [
    "##### Database configuration"
   ]
  },
  {
   "cell_type": "code",
   "execution_count": null,
   "metadata": {},
   "outputs": [],
   "source": [
    "import mysql.connector\n",
    "from mysql.connector import Error\n",
    "\n",
    "\n",
    "config = {\n",
    "    'user': os.getenv('DB_USER'),\n",
    "    'password': os.getenv('DB_PASSWORD'),\n",
    "    'host': os.getenv('DB_HOST'),\n",
    "    'database': os.getenv('DB_NAME')\n",
    "}"
   ]
  },
  {
   "cell_type": "markdown",
   "metadata": {},
   "source": [
    "##### Get the tables from the database"
   ]
  },
  {
   "cell_type": "code",
   "execution_count": null,
   "metadata": {},
   "outputs": [],
   "source": [
    "def get_tables():\n",
    "    try:\n",
    "        conn = mysql.connector.connect(**config)\n",
    "        cursor = conn.cursor()\n",
    "        cursor.execute(\"SHOW TABLES;\")\n",
    "        tables = [table[0] for table in cursor.fetchall()]\n",
    "        return tables\n",
    "    \n",
    "    except Error as e:\n",
    "        print(f\"Error: {e}\")\n",
    "        return []\n",
    "    \n",
    "    finally:\n",
    "        if conn.is_connected():\n",
    "            cursor.close()\n",
    "            conn.close()\n"
   ]
  },
  {
   "cell_type": "markdown",
   "metadata": {},
   "source": [
    "##### Get Meta data from each table"
   ]
  },
  {
   "cell_type": "code",
   "execution_count": null,
   "metadata": {},
   "outputs": [],
   "source": [
    "def get_metadata(table_name):\n",
    "    try:\n",
    "        conn = mysql.connector.connect(**config)\n",
    "        cursor = conn.cursor()\n",
    "        query = f\"SHOW FULL COLUMNS FROM `{table_name}`\"\n",
    "        cursor.execute(query)\n",
    "        columns = cursor.fetchall()\n",
    "        metadata = []\n",
    "        for column in columns:\n",
    "            metadata.append(f\"Field: {column[0]}, Type: {column[1]}, Collation: {column[2]}, \"\n",
    "                            f\"Null: {column[3]}, Key: {column[4]}, Default: {column[5]}, \"\n",
    "                            f\"Extra: {column[6]}, Privileges: {column[7]}, Comment: {column[8]}\")\n",
    "        return metadata\n",
    "    \n",
    "    except Error as e:\n",
    "        print(f\"Error: {e}\")\n",
    "        return []\n",
    "    \n",
    "    finally:\n",
    "        if conn.is_connected():\n",
    "            cursor.close()\n",
    "            conn.close()\n",
    "\n",
    "\n",
    "tables = get_tables()\n",
    "table_metadata = {}\n",
    "\n",
    "for table in tables:\n",
    "    table_metadata[table] = get_metadata(table)\n",
    "\n",
    "print(table_metadata)"
   ]
  },
  {
   "cell_type": "markdown",
   "metadata": {},
   "source": [
    "#### Create a document object from the text data"
   ]
  },
  {
   "cell_type": "code",
   "execution_count": null,
   "metadata": {},
   "outputs": [],
   "source": [
    "from llama_index.core import Document\n",
    "documents = []\n",
    "\n",
    "for table_name, fields in table_metadata.items():\n",
    "    table_info = f\"Table: {table_name}\\n\"\n",
    "    table_info += \"\\n\".join(fields)\n",
    "    documents.append(Document(text=table_info))\n",
    "\n",
    "print(f\"Number of documents created: {len(documents)}\")\n",
    "for doc in documents:\n",
    "    print(f\"\\nDocument content:\\n{doc.text}\")"
   ]
  },
  {
   "cell_type": "markdown",
   "metadata": {},
   "source": [
    "#### Setting Embedding Model and Large Language Model"
   ]
  },
  {
   "cell_type": "code",
   "execution_count": null,
   "metadata": {},
   "outputs": [],
   "source": [
    "from llama_index.llms.gemini import Gemini\n",
    "from llama_index.embeddings.gemini import GeminiEmbedding\n",
    "\n",
    "# Set up Gemini LLM\n",
    "llm = Gemini(\n",
    "    model=\"models/gemini-1.5-flash\",\n",
    "    api_key=gemini_api_key\n",
    ")\n",
    "\n",
    "\n",
    "# Set up Gemini Embedding model\n",
    "embed_model = GeminiEmbedding(\n",
    "    model_name=\"models/embedding-001\",\n",
    "    api_key=gemini_api_key)"
   ]
  },
  {
   "cell_type": "markdown",
   "metadata": {},
   "source": [
    "#### Defining storage context and storing data"
   ]
  },
  {
   "cell_type": "code",
   "execution_count": null,
   "metadata": {},
   "outputs": [],
   "source": [
    "from llama_index.core import ServiceContext, Settings, VectorStoreIndex\n",
    "\n",
    "# Configure settings\n",
    "Settings.llm = llm\n",
    "Settings.embed_model = embed_model\n",
    "Settings.chunk_size = 1024\n",
    "\n",
    "# Create service context\n",
    "service_context = ServiceContext.from_defaults(llm=llm, embed_model=embed_model)"
   ]
  },
  {
   "cell_type": "markdown",
   "metadata": {},
   "source": [
    "#### Creating Index"
   ]
  },
  {
   "cell_type": "code",
   "execution_count": null,
   "metadata": {},
   "outputs": [],
   "source": [
    "# Create index\n",
    "index = VectorStoreIndex.from_documents(\n",
    "    documents, \n",
    "    service_context=service_context,\n",
    "    show_progress=True\n",
    ")"
   ]
  },
  {
   "cell_type": "markdown",
   "metadata": {},
   "source": [
    "#### Query engine"
   ]
  },
  {
   "cell_type": "code",
   "execution_count": null,
   "metadata": {},
   "outputs": [],
   "source": [
    "query_engine = index.as_query_engine()"
   ]
  },
  {
   "cell_type": "markdown",
   "metadata": {},
   "source": [
    "#### Generate prompt"
   ]
  },
  {
   "cell_type": "code",
   "execution_count": null,
   "metadata": {},
   "outputs": [],
   "source": [
    "def generate_prompt(user_prompt, metadata):\n",
    "    prompt = (\n",
    "        f\"Metadata:\\n\"\n",
    "        f\"{' | '.join(metadata)}\\n\"\n",
    "        f\"You are given the metadata of the database with the above meta data.\\n\"\n",
    "        f\"You need to analyze this and write an SQL query in normal text (not even markdown) to answer the below natural language question. \"\n",
    "        f\"Don't give any explanation, just write the query.\\n\"\n",
    "        f\"Question: {user_prompt}\"\n",
    "    )\n",
    "    return prompt\n",
    "\n",
    "user_prompt = \"Sales people working in tech companies\""
   ]
  },
  {
   "cell_type": "markdown",
   "metadata": {},
   "source": [
    "#### Generate SQL query by querying from the index"
   ]
  },
  {
   "cell_type": "code",
   "execution_count": null,
   "metadata": {},
   "outputs": [],
   "source": [
    "query = generate_prompt(user_prompt,table_metadata)\n",
    "response = query_engine.query(query)\n",
    "print(response)"
   ]
  },
  {
   "cell_type": "markdown",
   "metadata": {},
   "source": [
    "#### Execute the SQL Query"
   ]
  },
  {
   "cell_type": "code",
   "execution_count": null,
   "metadata": {},
   "outputs": [],
   "source": [
    "def execute_sql_query(query):\n",
    "    try:\n",
    "        conn = mysql.connector.connect(**config)\n",
    "        cursor = conn.cursor(dictionary=True)\n",
    "        cursor.execute(query)\n",
    "        results = cursor.fetchall()\n",
    "        return results\n",
    "    except Error as e:\n",
    "        print(f\"Error: {e}\")\n",
    "        return None\n",
    "    finally:\n",
    "        cursor.close()\n",
    "        conn.close()\n",
    "\n",
    "    \n",
    "\n",
    "results = execute_sql_query(str(response))\n",
    "print(\"results\\n\",results)"
   ]
  }
 ],
 "metadata": {
  "kernelspec": {
   "display_name": "venv",
   "language": "python",
   "name": "python3"
  },
  "language_info": {
   "codemirror_mode": {
    "name": "ipython",
    "version": 3
   },
   "file_extension": ".py",
   "mimetype": "text/x-python",
   "name": "python",
   "nbconvert_exporter": "python",
   "pygments_lexer": "ipython3",
   "version": "3.12.3"
  }
 },
 "nbformat": 4,
 "nbformat_minor": 2
}
